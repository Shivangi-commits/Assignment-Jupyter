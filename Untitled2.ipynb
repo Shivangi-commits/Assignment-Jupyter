{
  "metadata": {
    "language_info": {
      "codemirror_mode": {
        "name": "python",
        "version": 3
      },
      "file_extension": ".py",
      "mimetype": "text/x-python",
      "name": "python",
      "nbconvert_exporter": "python",
      "pygments_lexer": "ipython3",
      "version": "3.8"
    },
    "kernelspec": {
      "name": "python",
      "display_name": "Pyolite",
      "language": "python"
    }
  },
  "nbformat_minor": 4,
  "nbformat": 4,
  "cells": [
    {
      "cell_type": "markdown",
      "source": "# My Jupyter Notebook on IBM Watson #\n",
      "metadata": {}
    },
    {
      "cell_type": "markdown",
      "source": "**ShivangiPaliwal**  \nMolecular Biologist",
      "metadata": {}
    },
    {
      "cell_type": "markdown",
      "source": "*I am a biologist and and want to further advance my career in research and innovation and learning data science is very useful for the step forward.*",
      "metadata": {}
    },
    {
      "cell_type": "markdown",
      "source": "My Code multiplies 2 times 3",
      "metadata": {}
    },
    {
      "cell_type": "code",
      "source": "2*3",
      "metadata": {
        "trusted": true
      },
      "execution_count": 1,
      "outputs": [
        {
          "execution_count": 1,
          "output_type": "execute_result",
          "data": {
            "text/plain": "6"
          },
          "metadata": {}
        }
      ]
    },
    {
      "cell_type": "markdown",
      "source": "TABLE",
      "metadata": {}
    },
    {
      "cell_type": "markdown",
      "source": "|Name||Sex||Age| \n|---||---||----|  \n|Sam||M||42|  \n|Terry||M||31|  \n|Maya||F||26|\n",
      "metadata": {}
    },
    {
      "cell_type": "markdown",
      "source": "1. Eggs  \n2. Butter  \n3. Bread  \n4. Ketchup",
      "metadata": {}
    },
    {
      "cell_type": "markdown",
      "source": "- Books  \n- Pencils  \n- Binder  \n- Crayons  \n- Markers ",
      "metadata": {}
    },
    {
      "cell_type": "code",
      "source": "",
      "metadata": {},
      "execution_count": null,
      "outputs": []
    }
  ]
}